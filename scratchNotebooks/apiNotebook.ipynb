{
 "cells": [
  {
   "cell_type": "code",
   "execution_count": 13,
   "metadata": {},
   "outputs": [],
   "source": [
    "from API_KEY import api\n",
    "import pandas as pd\n",
    "import requests\n",
    "import pprint"
   ]
  },
  {
   "cell_type": "code",
   "execution_count": null,
   "metadata": {},
   "outputs": [],
   "source": [
    "api_url = f\"https://api.the-odds-api.com/v3/odds/?apiKey={api}&sport=soccer_epl&region=eu&mkt=spreads\""
   ]
  },
  {
   "cell_type": "code",
   "execution_count": 2,
   "metadata": {},
   "outputs": [],
   "source": [
    "sports_url = f\"https://api.the-odds-api.com/v3/sports/?apiKey={api}\""
   ]
  },
  {
   "cell_type": "code",
   "execution_count": 6,
   "metadata": {},
   "outputs": [],
   "source": [
    "response = requests.get(sports_url)"
   ]
  },
  {
   "cell_type": "code",
   "execution_count": 8,
   "metadata": {},
   "outputs": [
    {
     "data": {
      "text/plain": [
       "'<!DOCTYPE HTML PUBLIC \"-//W3C//DTD HTML 3.2 Final//EN\">\\n<title>404 Not Found</title>\\n<h1>Not Found</h1>\\n<p>The requested URL was not found on the server. If you entered the URL manually please check your spelling and try again.</p>\\n'"
      ]
     },
     "execution_count": 8,
     "metadata": {},
     "output_type": "execute_result"
    }
   ],
   "source": [
    "response.text"
   ]
  },
  {
   "cell_type": "code",
   "execution_count": 9,
   "metadata": {},
   "outputs": [],
   "source": [
    "sports_request = f\"https://api.the-odds-api.com/v3/odds/?apiKey={api}&sport=basketball_nba&region=us&mkt=spreads\""
   ]
  },
  {
   "cell_type": "code",
   "execution_count": 10,
   "metadata": {},
   "outputs": [],
   "source": [
    "response = requests.get(sports_request)"
   ]
  },
  {
   "cell_type": "code",
   "execution_count": 11,
   "metadata": {},
   "outputs": [
    {
     "data": {
      "text/plain": [
       "<bound method Response.raise_for_status of <Response [200]>>"
      ]
     },
     "execution_count": 11,
     "metadata": {},
     "output_type": "execute_result"
    }
   ],
   "source": [
    "response.raise_for_status"
   ]
  },
  {
   "cell_type": "code",
   "execution_count": 14,
   "metadata": {},
   "outputs": [
    {
     "name": "stdout",
     "output_type": "stream",
     "text": [
      "('{\"success\":true,\"data\":[{\"sport_key\":\"basketball_nba\",\"sport_nice\":\"NBA\",\"teams\":[\"Milwaukee '\n",
      " 'Bucks\",\"Orlando Magic\"],\"commence_time\":1598730000,\"home_team\":\"Milwaukee '\n",
      " 'Bucks\",\"sites\":[{\"site_key\":\"pointsbetus\",\"site_nice\":\"PointsBet '\n",
      " '(US)\",\"last_update\":1598716935,\"odds\":{\"spreads\":{\"odds\":[1.91,1.91],\"points\":[\"-13.5\",\"13.5\"]}}},{\"site_key\":\"intertops\",\"site_nice\":\"Intertops\",\"last_update\":1598717069,\"odds\":{\"spreads\":{\"odds\":[1.9091,1.9091],\"points\":[\"-13.50\",\"13.50\"]}}},{\"site_key\":\"draftkings\",\"site_nice\":\"DraftKings\",\"last_update\":1598716984,\"odds\":{\"spreads\":{\"odds\":[1.9,1.92],\"points\":[\"-13.5\",\"13.5\"]}}},{\"site_key\":\"betrivers\",\"site_nice\":\"BetRivers\",\"last_update\":1598717005,\"odds\":{\"spreads\":{\"odds\":[1.9,1.92],\"points\":[\"-13.5\",\"13.5\"]}}},{\"site_key\":\"betonlineag\",\"site_nice\":\"BetOnline.ag\",\"last_update\":1598716991,\"odds\":{\"spreads\":{\"odds\":[1.9,1.9],\"points\":[\"-13.5\",\"13.5\"]}}},{\"site_key\":\"bovada\",\"site_nice\":\"Bovada\",\"last_update\":1598716970,\"odds\":{\"spreads\":{\"odds\":[1.909091,1.909091],\"points\":[\"-13.5\",\"13.5\"]}}},{\"site_key\":\"unibet\",\"site_nice\":\"Unibet\",\"last_update\":1598716909,\"odds\":{\"spreads\":{\"odds\":[1.9,1.92],\"points\":[\"-13.5\",\"13.5\"]}}},{\"site_key\":\"lowvig\",\"site_nice\":\"LowVig.ag\",\"last_update\":1598716831,\"odds\":{\"spreads\":{\"odds\":[1.98,1.926],\"points\":[\"-13.5\",\"13.5\"]}}},{\"site_key\":\"gtbets\",\"site_nice\":\"GTbets\",\"last_update\":1598716931,\"odds\":{\"spreads\":{\"odds\":[1.917,1.917],\"points\":[\"-13.5\",\"13.5\"]}}}],\"sites_count\":9},{\"sport_key\":\"basketball_nba\",\"sport_nice\":\"NBA\",\"teams\":[\"Houston '\n",
      " 'Rockets\",\"Oklahoma City '\n",
      " 'Thunder\"],\"commence_time\":1598740800,\"home_team\":\"Houston '\n",
      " 'Rockets\",\"sites\":[{\"site_key\":\"pointsbetus\",\"site_nice\":\"PointsBet '\n",
      " '(US)\",\"last_update\":1598716935,\"odds\":{\"spreads\":{\"odds\":[1.91,1.91],\"points\":[\"-5.0\",\"5.0\"]}}},{\"site_key\":\"intertops\",\"site_nice\":\"Intertops\",\"last_update\":1598717069,\"odds\":{\"spreads\":{\"odds\":[1.9091,1.9091],\"points\":[\"-5.00\",\"5.00\"]}}},{\"site_key\":\"draftkings\",\"site_nice\":\"DraftKings\",\"last_update\":1598716984,\"odds\":{\"spreads\":{\"odds\":[1.9,1.92],\"points\":[\"-5.0\",\"5.0\"]}}},{\"site_key\":\"betrivers\",\"site_nice\":\"BetRivers\",\"last_update\":1598717005,\"odds\":{\"spreads\":{\"odds\":[1.9,1.92],\"points\":[\"-5.0\",\"5.0\"]}}},{\"site_key\":\"betonlineag\",\"site_nice\":\"BetOnline.ag\",\"last_update\":1598716991,\"odds\":{\"spreads\":{\"odds\":[1.9,1.9],\"points\":[\"-5.0\",\"5.0\"]}}},{\"site_key\":\"bovada\",\"site_nice\":\"Bovada\",\"last_update\":1598716970,\"odds\":{\"spreads\":{\"odds\":[1.87,1.952381],\"points\":[\"-5.0\",\"5.0\"]}}},{\"site_key\":\"unibet\",\"site_nice\":\"Unibet\",\"last_update\":1598716909,\"odds\":{\"spreads\":{\"odds\":[1.9,1.92],\"points\":[\"-5.0\",\"5.0\"]}}},{\"site_key\":\"lowvig\",\"site_nice\":\"LowVig.ag\",\"last_update\":1598716831,\"odds\":{\"spreads\":{\"odds\":[1.926,1.98],\"points\":[\"-4.5\",\"4.5\"]}}},{\"site_key\":\"gtbets\",\"site_nice\":\"GTbets\",\"last_update\":1598716931,\"odds\":{\"spreads\":{\"odds\":[1.917,1.917],\"points\":[\"-5\",\"5\"]}}}],\"sites_count\":9},{\"sport_key\":\"basketball_nba\",\"sport_nice\":\"NBA\",\"teams\":[\"Los '\n",
      " 'Angeles Lakers\",\"Portland Trail '\n",
      " 'Blazers\"],\"commence_time\":1598749800,\"home_team\":\"Los Angeles '\n",
      " 'Lakers\",\"sites\":[{\"site_key\":\"mybookieag\",\"site_nice\":\"MyBookie.ag\",\"last_update\":1598716846,\"odds\":{\"spreads\":{\"odds\":[1.95,1.87],\"points\":[\"-13.5\",\"13.5\"]}}},{\"site_key\":\"pointsbetus\",\"site_nice\":\"PointsBet '\n",
      " '(US)\",\"last_update\":1598716935,\"odds\":{\"spreads\":{\"odds\":[1.91,1.91],\"points\":[\"-13.0\",\"13.0\"]}}},{\"site_key\":\"intertops\",\"site_nice\":\"Intertops\",\"last_update\":1598717069,\"odds\":{\"spreads\":{\"odds\":[1.9091,1.9091],\"points\":[\"-13.00\",\"13.00\"]}}},{\"site_key\":\"draftkings\",\"site_nice\":\"DraftKings\",\"last_update\":1598716984,\"odds\":{\"spreads\":{\"odds\":[1.9,1.92],\"points\":[\"-13.5\",\"13.5\"]}}},{\"site_key\":\"betrivers\",\"site_nice\":\"BetRivers\",\"last_update\":1598717005,\"odds\":{\"spreads\":{\"odds\":[1.9,1.92],\"points\":[\"-13.5\",\"13.5\"]}}},{\"site_key\":\"betonlineag\",\"site_nice\":\"BetOnline.ag\",\"last_update\":1598716991,\"odds\":{\"spreads\":{\"odds\":[1.89,1.92],\"points\":[\"-13.0\",\"13.0\"]}}},{\"site_key\":\"bovada\",\"site_nice\":\"Bovada\",\"last_update\":1598716970,\"odds\":{\"spreads\":{\"odds\":[1.909091,1.909091],\"points\":[\"-13.0\",\"13.0\"]}}},{\"site_key\":\"unibet\",\"site_nice\":\"Unibet\",\"last_update\":1598716909,\"odds\":{\"spreads\":{\"odds\":[1.9,1.92],\"points\":[\"-13.5\",\"13.5\"]}}},{\"site_key\":\"lowvig\",\"site_nice\":\"LowVig.ag\",\"last_update\":1598716831,\"odds\":{\"spreads\":{\"odds\":[1.935,1.971],\"points\":[\"-13\",\"13\"]}}},{\"site_key\":\"gtbets\",\"site_nice\":\"GTbets\",\"last_update\":1598716931,\"odds\":{\"spreads\":{\"odds\":[1.917,1.917],\"points\":[\"-13\",\"13\"]}}}],\"sites_count\":10},{\"sport_key\":\"basketball_nba\",\"sport_nice\":\"NBA\",\"teams\":[\"Boston '\n",
      " 'Celtics\",\"Toronto Raptors\"],\"commence_time\":1598807400,\"home_team\":\"Toronto '\n",
      " 'Raptors\",\"sites\":[{\"site_key\":\"mybookieag\",\"site_nice\":\"MyBookie.ag\",\"last_update\":1598716846,\"odds\":{\"spreads\":{\"odds\":[1.91,1.91],\"points\":[\"2.5\",\"-2.5\"]}}},{\"site_key\":\"pointsbetus\",\"site_nice\":\"PointsBet '\n",
      " '(US)\",\"last_update\":1598716935,\"odds\":{\"spreads\":{\"odds\":[1.91,1.91],\"points\":[\"2.5\",\"-2.5\"]}}},{\"site_key\":\"intertops\",\"site_nice\":\"Intertops\",\"last_update\":1598717069,\"odds\":{\"spreads\":{\"odds\":[1.8696,1.9524],\"points\":[\"2.50\",\"-2.50\"]}}},{\"site_key\":\"draftkings\",\"site_nice\":\"DraftKings\",\"last_update\":1598716984,\"odds\":{\"spreads\":{\"odds\":[1.86,1.85],\"points\":[\"2.0\",\"-2.0\"]}}},{\"site_key\":\"betrivers\",\"site_nice\":\"BetRivers\",\"last_update\":1598717005,\"odds\":{\"spreads\":{\"odds\":[1.86,1.85],\"points\":[\"2.0\",\"-2.0\"]}}},{\"site_key\":\"betonlineag\",\"site_nice\":\"BetOnline.ag\",\"last_update\":1598716991,\"odds\":{\"spreads\":{\"odds\":[1.9,1.9],\"points\":[\"2.5\",\"-2.5\"]}}},{\"site_key\":\"bovada\",\"site_nice\":\"Bovada\",\"last_update\":1598716970,\"odds\":{\"spreads\":{\"odds\":[1.909091,1.909091],\"points\":[\"2.5\",\"-2.5\"]}}},{\"site_key\":\"unibet\",\"site_nice\":\"Unibet\",\"last_update\":1598716909,\"odds\":{\"spreads\":{\"odds\":[1.86,1.85],\"points\":[\"2.0\",\"-2.0\"]}}},{\"site_key\":\"lowvig\",\"site_nice\":\"LowVig.ag\",\"last_update\":1598716831,\"odds\":{\"spreads\":{\"odds\":[1.909,2.0],\"points\":[\"2.5\",\"-2.5\"]}}},{\"site_key\":\"gtbets\",\"site_nice\":\"GTbets\",\"last_update\":1598716931,\"odds\":{\"spreads\":{\"odds\":[1.917,1.917],\"points\":[\"2.5\",\"-2.5\"]}}}],\"sites_count\":10},{\"sport_key\":\"basketball_nba\",\"sport_nice\":\"NBA\",\"teams\":[\"Dallas '\n",
      " 'Mavericks\",\"Los Angeles '\n",
      " 'Clippers\"],\"commence_time\":1598816400,\"home_team\":\"Dallas '\n",
      " 'Mavericks\",\"sites\":[{\"site_key\":\"mybookieag\",\"site_nice\":\"MyBookie.ag\",\"last_update\":1598716846,\"odds\":{\"spreads\":{\"odds\":[1.91,1.91],\"points\":[\"10.5\",\"-10.5\"]}}},{\"site_key\":\"pointsbetus\",\"site_nice\":\"PointsBet '\n",
      " '(US)\",\"last_update\":1598716935,\"odds\":{\"spreads\":{\"odds\":[1.91,1.91],\"points\":[\"10.5\",\"-10.5\"]}}},{\"site_key\":\"intertops\",\"site_nice\":\"Intertops\",\"last_update\":1598717069,\"odds\":{\"spreads\":{\"odds\":[1.9091,1.9091],\"points\":[\"10.00\",\"-10.00\"]}}},{\"site_key\":\"draftkings\",\"site_nice\":\"DraftKings\",\"last_update\":1598716984,\"odds\":{\"spreads\":{\"odds\":[1.85,1.85],\"points\":[\"10.0\",\"-10.0\"]}}},{\"site_key\":\"betrivers\",\"site_nice\":\"BetRivers\",\"last_update\":1598717005,\"odds\":{\"spreads\":{\"odds\":[1.85,1.85],\"points\":[\"10.0\",\"-10.0\"]}}},{\"site_key\":\"betonlineag\",\"site_nice\":\"BetOnline.ag\",\"last_update\":1598716991,\"odds\":{\"spreads\":{\"odds\":[1.9,1.9],\"points\":[\"10.5\",\"-10.5\"]}}},{\"site_key\":\"bovada\",\"site_nice\":\"Bovada\",\"last_update\":1598716970,\"odds\":{\"spreads\":{\"odds\":[1.909091,1.909091],\"points\":[\"10.5\",\"-10.5\"]}}},{\"site_key\":\"unibet\",\"site_nice\":\"Unibet\",\"last_update\":1598716909,\"odds\":{\"spreads\":{\"odds\":[1.85,1.85],\"points\":[\"10.0\",\"-10.0\"]}}},{\"site_key\":\"lowvig\",\"site_nice\":\"LowVig.ag\",\"last_update\":1598716831,\"odds\":{\"spreads\":{\"odds\":[1.952,1.952],\"points\":[\"10.5\",\"-10.5\"]}}},{\"site_key\":\"gtbets\",\"site_nice\":\"GTbets\",\"last_update\":1598716931,\"odds\":{\"spreads\":{\"odds\":[1.917,1.917],\"points\":[\"10.5\",\"-10.5\"]}}}],\"sites_count\":10},{\"sport_key\":\"basketball_nba\",\"sport_nice\":\"NBA\",\"teams\":[\"Denver '\n",
      " 'Nuggets\",\"Utah Jazz\"],\"commence_time\":1598834400,\"home_team\":\"Utah '\n",
      " 'Jazz\",\"sites\":[{\"site_key\":\"mybookieag\",\"site_nice\":\"MyBookie.ag\",\"last_update\":1598716846,\"odds\":{\"spreads\":{\"odds\":[1.91,1.91],\"points\":[\"2.5\",\"-2.5\"]}}},{\"site_key\":\"pointsbetus\",\"site_nice\":\"PointsBet '\n",
      " '(US)\",\"last_update\":1598716935,\"odds\":{\"spreads\":{\"odds\":[1.91,1.91],\"points\":[\"2.5\",\"-2.5\"]}}},{\"site_key\":\"intertops\",\"site_nice\":\"Intertops\",\"last_update\":1598717069,\"odds\":{\"spreads\":{\"odds\":[1.9091,1.9091],\"points\":[\"2.50\",\"-2.50\"]}}},{\"site_key\":\"draftkings\",\"site_nice\":\"DraftKings\",\"last_update\":1598716984,\"odds\":{\"spreads\":{\"odds\":[1.86,1.85],\"points\":[\"2.0\",\"-2.0\"]}}},{\"site_key\":\"betrivers\",\"site_nice\":\"BetRivers\",\"last_update\":1598717005,\"odds\":{\"spreads\":{\"odds\":[1.86,1.85],\"points\":[\"2.0\",\"-2.0\"]}}},{\"site_key\":\"betonlineag\",\"site_nice\":\"BetOnline.ag\",\"last_update\":1598716991,\"odds\":{\"spreads\":{\"odds\":[1.9,1.9],\"points\":[\"2.5\",\"-2.5\"]}}},{\"site_key\":\"bovada\",\"site_nice\":\"Bovada\",\"last_update\":1598716970,\"odds\":{\"spreads\":{\"odds\":[1.909091,1.909091],\"points\":[\"2.5\",\"-2.5\"]}}},{\"site_key\":\"unibet\",\"site_nice\":\"Unibet\",\"last_update\":1598716909,\"odds\":{\"spreads\":{\"odds\":[1.86,1.85],\"points\":[\"2.0\",\"-2.0\"]}}},{\"site_key\":\"lowvig\",\"site_nice\":\"LowVig.ag\",\"last_update\":1598716831,\"odds\":{\"spreads\":{\"odds\":[1.952,1.952],\"points\":[\"2.5\",\"-2.5\"]}}},{\"site_key\":\"gtbets\",\"site_nice\":\"GTbets\",\"last_update\":1598716931,\"odds\":{\"spreads\":{\"odds\":[1.917,1.917],\"points\":[\"2.5\",\"-2.5\"]}}}],\"sites_count\":10}]}\\n')\n"
     ]
    }
   ],
   "source": [
    "pprint.pprint(response.text)"
   ]
  },
  {
   "cell_type": "code",
   "execution_count": null,
   "metadata": {},
   "outputs": [],
   "source": []
  }
 ],
 "metadata": {
  "kernelspec": {
   "display_name": "Python 3",
   "language": "python",
   "name": "python3"
  },
  "language_info": {
   "codemirror_mode": {
    "name": "ipython",
    "version": 3
   },
   "file_extension": ".py",
   "mimetype": "text/x-python",
   "name": "python",
   "nbconvert_exporter": "python",
   "pygments_lexer": "ipython3",
   "version": "3.7.6"
  }
 },
 "nbformat": 4,
 "nbformat_minor": 4
}
