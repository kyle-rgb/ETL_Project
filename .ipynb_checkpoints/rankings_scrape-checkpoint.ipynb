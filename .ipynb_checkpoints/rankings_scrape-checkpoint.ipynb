{
 "cells": [
  {
   "cell_type": "code",
   "execution_count": 69,
   "metadata": {
    "slideshow": {
     "slide_type": "slide"
    }
   },
   "outputs": [],
   "source": [
    "import pandas as pd"
   ]
  },
  {
   "cell_type": "code",
   "execution_count": 70,
   "metadata": {
    "slideshow": {
     "slide_type": "fragment"
    }
   },
   "outputs": [],
   "source": [
    "url = 'https://www.teamrankings.com/nba/trends/ats_trends/?range=yearly_2018_2019'"
   ]
  },
  {
   "cell_type": "code",
   "execution_count": 71,
   "metadata": {
    "nbgrader": {
     "grade": false,
     "grade_id": "cell-a71ede958957992c",
     "locked": false,
     "schema_version": 1,
     "solution": true
    },
    "slideshow": {
     "slide_type": "fragment"
    }
   },
   "outputs": [
    {
     "data": {
      "text/plain": [
       "[            Team ATS Record Cover %  MOV  ATS +/-\n",
       " 0      Milwaukee    57-36-4   61.3%  8.9      2.6\n",
       " 1         Dallas    46-35-1   56.8% -1.3      1.1\n",
       " 2     Sacramento    45-35-2   56.2% -1.1      1.1\n",
       " 3    LA Clippers    48-39-1   55.2%  0.1      0.3\n",
       " 4       Portland    52-44-2   54.2%  3.3      1.6\n",
       " 5           Utah    46-39-2   54.1%  4.4     -0.2\n",
       " 6        Orlando    46-39-2   54.1% -0.2      1.9\n",
       " 7    San Antonio    47-41-1   53.4%  1.4     -0.0\n",
       " 8          Miami    43-38-1   53.1% -0.2     -0.1\n",
       " 9       Brooklyn    46-41-0   52.9% -0.7      1.3\n",
       " 10       Houston    47-43-3   52.2%  4.6      0.5\n",
       " 11       Atlanta    42-40-0   51.2% -6.0      0.0\n",
       " 12        Denver    49-47-0   51.0%  3.6      0.2\n",
       " 13     Okla City    44-43-0   50.6%  2.9     -1.0\n",
       " 14  Philadelphia    46-48-0   48.9%  2.7     -0.2\n",
       " 15       Detroit    41-43-2   48.8% -1.3     -0.6\n",
       " 16     Minnesota    40-42-0   48.8% -1.5     -0.5\n",
       " 17     Charlotte    39-41-2   48.8% -1.1     -0.9\n",
       " 18       Toronto    51-54-1   48.6%  5.9      1.3\n",
       " 19        Boston    43-46-2   48.3%  3.9     -0.0\n",
       " 20       Memphis    39-42-1   48.1% -2.6      0.3\n",
       " 21       Indiana    40-45-1   47.1%  2.8      1.3\n",
       " 22   New Orleans    38-43-1   46.9% -1.3      0.2\n",
       " 23     Cleveland    38-43-1   46.9% -9.6     -1.6\n",
       " 24    Washington    38-44-0   46.3% -2.9     -1.9\n",
       " 25       Phoenix    36-46-0   43.9% -9.3     -1.8\n",
       " 26       Chicago    35-45-2   43.8% -8.4     -2.1\n",
       " 27     LA Lakers    35-46-1   43.2% -1.7     -0.8\n",
       " 28  Golden State    44-58-2   43.1%  5.8     -1.3\n",
       " 29      New York    32-47-3   40.5% -9.2     -1.8]"
      ]
     },
     "execution_count": 71,
     "metadata": {},
     "output_type": "execute_result"
    }
   ],
   "source": [
    "tables = pd.read_html(url)\n",
    "tables"
   ]
  },
  {
   "cell_type": "code",
   "execution_count": 72,
   "metadata": {
    "nbgrader": {
     "grade": false,
     "grade_id": "cell-316da8cb3354a1e2",
     "locked": false,
     "schema_version": 1,
     "solution": true
    },
    "slideshow": {
     "slide_type": "fragment"
    }
   },
   "outputs": [
    {
     "data": {
      "text/html": [
       "<div>\n",
       "<style scoped>\n",
       "    .dataframe tbody tr th:only-of-type {\n",
       "        vertical-align: middle;\n",
       "    }\n",
       "\n",
       "    .dataframe tbody tr th {\n",
       "        vertical-align: top;\n",
       "    }\n",
       "\n",
       "    .dataframe thead th {\n",
       "        text-align: right;\n",
       "    }\n",
       "</style>\n",
       "<table border=\"1\" class=\"dataframe\">\n",
       "  <thead>\n",
       "    <tr style=\"text-align: right;\">\n",
       "      <th></th>\n",
       "      <th>Team</th>\n",
       "      <th>ATS-Record</th>\n",
       "      <th>Cover %</th>\n",
       "      <th>MOV</th>\n",
       "      <th>ATS +/-</th>\n",
       "    </tr>\n",
       "  </thead>\n",
       "  <tbody>\n",
       "    <tr>\n",
       "      <th>0</th>\n",
       "      <td>Milwaukee</td>\n",
       "      <td>57-36-4</td>\n",
       "      <td>61.3%</td>\n",
       "      <td>8.9</td>\n",
       "      <td>2.6</td>\n",
       "    </tr>\n",
       "    <tr>\n",
       "      <th>1</th>\n",
       "      <td>Dallas</td>\n",
       "      <td>46-35-1</td>\n",
       "      <td>56.8%</td>\n",
       "      <td>-1.3</td>\n",
       "      <td>1.1</td>\n",
       "    </tr>\n",
       "    <tr>\n",
       "      <th>2</th>\n",
       "      <td>Sacramento</td>\n",
       "      <td>45-35-2</td>\n",
       "      <td>56.2%</td>\n",
       "      <td>-1.1</td>\n",
       "      <td>1.1</td>\n",
       "    </tr>\n",
       "    <tr>\n",
       "      <th>3</th>\n",
       "      <td>LA Clippers</td>\n",
       "      <td>48-39-1</td>\n",
       "      <td>55.2%</td>\n",
       "      <td>0.1</td>\n",
       "      <td>0.3</td>\n",
       "    </tr>\n",
       "    <tr>\n",
       "      <th>4</th>\n",
       "      <td>Portland</td>\n",
       "      <td>52-44-2</td>\n",
       "      <td>54.2%</td>\n",
       "      <td>3.3</td>\n",
       "      <td>1.6</td>\n",
       "    </tr>\n",
       "  </tbody>\n",
       "</table>\n",
       "</div>"
      ],
      "text/plain": [
       "          Team ATS-Record Cover %  MOV  ATS +/-\n",
       "0    Milwaukee    57-36-4   61.3%  8.9      2.6\n",
       "1       Dallas    46-35-1   56.8% -1.3      1.1\n",
       "2   Sacramento    45-35-2   56.2% -1.1      1.1\n",
       "3  LA Clippers    48-39-1   55.2%  0.1      0.3\n",
       "4     Portland    52-44-2   54.2%  3.3      1.6"
      ]
     },
     "execution_count": 72,
     "metadata": {},
     "output_type": "execute_result"
    }
   ],
   "source": [
    "df = tables[0]\n",
    "df.columns = ['Team', 'ATS-Record', 'Cover %', 'MOV', 'ATS +/-']\n",
    "df.head()"
   ]
  },
  {
   "cell_type": "markdown",
   "metadata": {
    "nbgrader": {
     "grade": false,
     "grade_id": "cell-20d93171b74375bb",
     "locked": true,
     "schema_version": 1,
     "solution": false
    },
    "slideshow": {
     "slide_type": "subslide"
    }
   },
   "source": [
    "Cleanup of extra row"
   ]
  },
  {
   "cell_type": "code",
   "execution_count": 73,
   "metadata": {
    "nbgrader": {
     "grade": false,
     "grade_id": "cell-cde33910996decbd",
     "locked": false,
     "schema_version": 1,
     "solution": true
    }
   },
   "outputs": [
    {
     "data": {
      "text/plain": [
       "[            Team ATS Record Cover %  MOV  ATS +/-\n",
       " 0         Boston    62-37-2   62.6%  3.0      1.5\n",
       " 1        Indiana    53-36-0   59.6%  1.7      2.4\n",
       " 2    New Orleans    52-38-1   57.8%  1.1      0.8\n",
       " 3   Philadelphia    52-38-2   57.8%  4.4      1.8\n",
       " 4       Brooklyn    46-35-1   56.8% -3.7      0.8\n",
       " 5       Portland    45-36-5   55.6%  2.1      0.5\n",
       " 6        Toronto    48-43-1   52.8%  6.5      1.3\n",
       " 7      LA Lakers    43-39-0   52.4% -1.5      2.0\n",
       " 8    LA Clippers    42-39-1   51.8%  0.0      0.5\n",
       " 9           Utah    48-45-0   51.6%  3.5      2.5\n",
       " 10   San Antonio    43-41-3   51.2%  2.2     -0.1\n",
       " 11       Houston    50-48-1   51.0%  7.3      0.5\n",
       " 12       Atlanta    40-39-3   50.6% -5.5      0.1\n",
       " 13        Dallas    41-40-1   50.6% -3.0      1.0\n",
       " 14       Chicago    41-40-1   50.6% -7.0     -1.2\n",
       " 15         Miami    41-40-6   50.6% -0.2     -0.4\n",
       " 16       Detroit    40-40-2   50.0% -0.1     -0.1\n",
       " 17    Sacramento    39-40-3   49.4% -7.0     -0.5\n",
       " 18        Denver    37-42-3   46.8%  1.5     -0.6\n",
       " 19     Minnesota    39-45-3   46.4%  1.6     -0.5\n",
       " 20      New York    38-44-0   46.3% -3.6      0.9\n",
       " 21       Orlando    37-43-2   46.2% -4.8     -0.2\n",
       " 22       Phoenix    37-43-2   46.2% -9.4     -2.0\n",
       " 23  Golden State    46-56-1   45.1%  6.8     -1.1\n",
       " 24       Memphis    36-44-2   45.0% -6.2     -1.8\n",
       " 25    Washington    39-48-1   44.8%  0.4     -1.3\n",
       " 26     Charlotte    34-44-4   43.6%  0.3     -0.6\n",
       " 27     Milwaukee    36-48-5   42.9% -0.3     -1.8\n",
       " 28     Okla City    37-50-1   42.5%  2.9     -1.2\n",
       " 29     Cleveland    41-62-1   39.8%  0.4     -3.1]"
      ]
     },
     "execution_count": 73,
     "metadata": {},
     "output_type": "execute_result"
    }
   ],
   "source": [
    "url2 = 'https://www.teamrankings.com/nba/trends/ats_trends/?range=yearly_2017_2018'\n",
    "tables2 = pd.read_html(url2)\n",
    "tables2"
   ]
  },
  {
   "cell_type": "code",
   "execution_count": 74,
   "metadata": {
    "nbgrader": {
     "grade": false,
     "grade_id": "cell-cde33910996decbd",
     "locked": false,
     "schema_version": 1,
     "solution": true
    }
   },
   "outputs": [
    {
     "data": {
      "text/html": [
       "<div>\n",
       "<style scoped>\n",
       "    .dataframe tbody tr th:only-of-type {\n",
       "        vertical-align: middle;\n",
       "    }\n",
       "\n",
       "    .dataframe tbody tr th {\n",
       "        vertical-align: top;\n",
       "    }\n",
       "\n",
       "    .dataframe thead th {\n",
       "        text-align: right;\n",
       "    }\n",
       "</style>\n",
       "<table border=\"1\" class=\"dataframe\">\n",
       "  <thead>\n",
       "    <tr style=\"text-align: right;\">\n",
       "      <th></th>\n",
       "      <th>Team</th>\n",
       "      <th>ATS-Record</th>\n",
       "      <th>Cover %</th>\n",
       "      <th>MOV</th>\n",
       "      <th>ATS +/-</th>\n",
       "    </tr>\n",
       "  </thead>\n",
       "  <tbody>\n",
       "    <tr>\n",
       "      <th>0</th>\n",
       "      <td>Boston</td>\n",
       "      <td>62-37-2</td>\n",
       "      <td>62.6%</td>\n",
       "      <td>3.0</td>\n",
       "      <td>1.5</td>\n",
       "    </tr>\n",
       "    <tr>\n",
       "      <th>1</th>\n",
       "      <td>Indiana</td>\n",
       "      <td>53-36-0</td>\n",
       "      <td>59.6%</td>\n",
       "      <td>1.7</td>\n",
       "      <td>2.4</td>\n",
       "    </tr>\n",
       "    <tr>\n",
       "      <th>2</th>\n",
       "      <td>New Orleans</td>\n",
       "      <td>52-38-1</td>\n",
       "      <td>57.8%</td>\n",
       "      <td>1.1</td>\n",
       "      <td>0.8</td>\n",
       "    </tr>\n",
       "    <tr>\n",
       "      <th>3</th>\n",
       "      <td>Philadelphia</td>\n",
       "      <td>52-38-2</td>\n",
       "      <td>57.8%</td>\n",
       "      <td>4.4</td>\n",
       "      <td>1.8</td>\n",
       "    </tr>\n",
       "    <tr>\n",
       "      <th>4</th>\n",
       "      <td>Brooklyn</td>\n",
       "      <td>46-35-1</td>\n",
       "      <td>56.8%</td>\n",
       "      <td>-3.7</td>\n",
       "      <td>0.8</td>\n",
       "    </tr>\n",
       "  </tbody>\n",
       "</table>\n",
       "</div>"
      ],
      "text/plain": [
       "           Team ATS-Record Cover %  MOV  ATS +/-\n",
       "0        Boston    62-37-2   62.6%  3.0      1.5\n",
       "1       Indiana    53-36-0   59.6%  1.7      2.4\n",
       "2   New Orleans    52-38-1   57.8%  1.1      0.8\n",
       "3  Philadelphia    52-38-2   57.8%  4.4      1.8\n",
       "4      Brooklyn    46-35-1   56.8% -3.7      0.8"
      ]
     },
     "execution_count": 74,
     "metadata": {},
     "output_type": "execute_result"
    }
   ],
   "source": [
    "df2 = tables2[0]\n",
    "df2.columns = ['Team', 'ATS-Record', 'Cover %', 'MOV', 'ATS +/-']\n",
    "df2.head()"
   ]
  },
  {
   "cell_type": "code",
   "execution_count": 75,
   "metadata": {
    "nbgrader": {
     "grade": false,
     "grade_id": "cell-cde33910996decbd",
     "locked": false,
     "schema_version": 1,
     "solution": true
    }
   },
   "outputs": [],
   "source": [
    "df = df[['Team', 'ATS-Record', 'Cover %']]"
   ]
  },
  {
   "cell_type": "code",
   "execution_count": 76,
   "metadata": {
    "nbgrader": {
     "grade": false,
     "grade_id": "cell-1df09a2e03a3b973",
     "locked": false,
     "schema_version": 1,
     "solution": true
    },
    "slideshow": {
     "slide_type": "fragment"
    }
   },
   "outputs": [],
   "source": [
    "df2 = df2[['Team', 'ATS-Record', 'Cover %']]"
   ]
  },
  {
   "cell_type": "code",
   "execution_count": 77,
   "metadata": {
    "nbgrader": {
     "grade": false,
     "grade_id": "cell-3e6a547da7c5f934",
     "locked": false,
     "schema_version": 1,
     "solution": true
    }
   },
   "outputs": [
    {
     "name": "stderr",
     "output_type": "stream",
     "text": [
      "/Users/elijahzwade/opt/anaconda3/lib/python3.7/site-packages/pandas/core/frame.py:2963: SettingWithCopyWarning: \n",
      "A value is trying to be set on a copy of a slice from a DataFrame.\n",
      "Try using .loc[row_indexer,col_indexer] = value instead\n",
      "\n",
      "See the caveats in the documentation: https://pandas.pydata.org/pandas-docs/stable/user_guide/indexing.html#returning-a-view-versus-a-copy\n",
      "  self[k1] = value[k2]\n"
     ]
    }
   ],
   "source": [
    "df[['Win', 'Loss', 'Tie']] = df['ATS-Record'].str.split(\"-\", expand = True)"
   ]
  },
  {
   "cell_type": "code",
   "execution_count": 78,
   "metadata": {},
   "outputs": [],
   "source": [
    "df2[['Win', 'Loss', 'Tie']] = df2['ATS-Record'].str.split(\"-\", expand = True)"
   ]
  },
  {
   "cell_type": "code",
   "execution_count": 79,
   "metadata": {},
   "outputs": [],
   "source": [
    "df = df.drop('ATS-Record', axis = 1)"
   ]
  },
  {
   "cell_type": "code",
   "execution_count": 80,
   "metadata": {},
   "outputs": [],
   "source": [
    "df2 = df2.drop('ATS-Record', axis = 1)"
   ]
  },
  {
   "cell_type": "code",
   "execution_count": 81,
   "metadata": {},
   "outputs": [],
   "source": [
    "df['Cover %'] = list(map(lambda x: x[:-1], df['Cover %'].values))"
   ]
  },
  {
   "cell_type": "code",
   "execution_count": 82,
   "metadata": {},
   "outputs": [],
   "source": [
    "df2['Cover %'] = list(map(lambda x: x[:-1], df2['Cover %'].values))"
   ]
  },
  {
   "cell_type": "code",
   "execution_count": 83,
   "metadata": {},
   "outputs": [],
   "source": [
    "df[['Cover %', 'Win', 'Loss', 'Tie']] = df[['Cover %', 'Win', 'Loss', 'Tie']].astype(float)"
   ]
  },
  {
   "cell_type": "code",
   "execution_count": 84,
   "metadata": {},
   "outputs": [],
   "source": [
    "df2[['Cover %', 'Win', 'Loss', 'Tie']] = df2[['Cover %', 'Win', 'Loss', 'Tie']].astype(float)"
   ]
  },
  {
   "cell_type": "code",
   "execution_count": 85,
   "metadata": {},
   "outputs": [],
   "source": [
    "df.to_csv(\"2017-18/17-18-cover.csv\", index = False, header = True)"
   ]
  },
  {
   "cell_type": "code",
   "execution_count": 86,
   "metadata": {},
   "outputs": [],
   "source": [
    "df2.to_csv(\"2018-19/18-19-cover.csv\", index = False, header = True)"
   ]
  },
  {
   "cell_type": "code",
   "execution_count": null,
   "metadata": {},
   "outputs": [],
   "source": []
  }
 ],
 "metadata": {
  "celltoolbar": "Create Assignment",
  "kernelspec": {
   "display_name": "Python 3",
   "language": "python",
   "name": "python3"
  },
  "language_info": {
   "codemirror_mode": {
    "name": "ipython",
    "version": 3
   },
   "file_extension": ".py",
   "mimetype": "text/x-python",
   "name": "python",
   "nbconvert_exporter": "python",
   "pygments_lexer": "ipython3",
   "version": "3.7.6"
  },
  "varInspector": {
   "cols": {
    "lenName": 16,
    "lenType": 16,
    "lenVar": 40
   },
   "kernels_config": {
    "python": {
     "delete_cmd_postfix": "",
     "delete_cmd_prefix": "del ",
     "library": "var_list.py",
     "varRefreshCmd": "print(var_dic_list())"
    },
    "r": {
     "delete_cmd_postfix": ") ",
     "delete_cmd_prefix": "rm(",
     "library": "var_list.r",
     "varRefreshCmd": "cat(var_dic_list()) "
    }
   },
   "types_to_exclude": [
    "module",
    "function",
    "builtin_function_or_method",
    "instance",
    "_Feature"
   ],
   "window_display": false
  }
 },
 "nbformat": 4,
 "nbformat_minor": 4
}
